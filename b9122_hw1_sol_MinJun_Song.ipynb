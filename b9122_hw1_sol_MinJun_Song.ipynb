{
 "cells": [
  {
   "cell_type": "markdown",
   "metadata": {},
   "source": [
    "# Computing for Business Research HW Assignment #1 \n",
    "\n",
    "# Min Jun Song (uni: ms5917)"
   ]
  },
  {
   "cell_type": "markdown",
   "metadata": {},
   "source": [
    "## Question 1. Solution"
   ]
  },
  {
   "cell_type": "code",
   "execution_count": 83,
   "metadata": {},
   "outputs": [
    {
     "name": "stdout",
     "output_type": "stream",
     "text": [
      "680.6172209633187\n"
     ]
    }
   ],
   "source": [
    "def emi(rate, n, pv, fv):\n",
    "    a = pv + fv/((1+rate)**n)\n",
    "    emi = a*rate*((1+rate)**n)/((1+rate)**n-1)\n",
    "    return emi\n",
    "\n",
    "# Test my code.\n",
    "print(emi(0.05, 30, 10000, 2000))"
   ]
  },
  {
   "cell_type": "markdown",
   "metadata": {},
   "source": [
    "## Question 2. Solution"
   ]
  },
  {
   "cell_type": "code",
   "execution_count": 84,
   "metadata": {},
   "outputs": [
    {
     "name": "stdout",
     "output_type": "stream",
     "text": [
      "[('this', 2), ('a', 2), ('line.', 2), ('is', 1), ('file', 1), ('with', 1), ('single', 1), ('there', 1), ('are', 1), ('two', 1), ('sentences', 1), ('in', 1)]\n",
      "[('business', 6), ('the', 5), ('of', 5), ('is', 4), ('in', 4), ('columbia', 3), ('school', 3), ('schools', 3), ('new', 2), ('york', 2), ('one', 2), ('university', 1), ('city', 1), ('manhattan', 1), ('city\\nestablished', 1), ('1916', 1), ('oldest', 1), ('world\\nit', 1), ('six', 1), ('ivy', 1), ('league', 1), ('and', 1), ('among', 1), ('most', 1), ('selective', 1), ('top', 1)]\n"
     ]
    }
   ],
   "source": [
    "file_1 = open('file_1.txt', 'w') # Create a file_1.txt\n",
    "ex_txt = 'This is a file with a single line. There are two sentences in this line.'\n",
    "file_1.write(ex_txt) # Write the example text into my file_1.txt\n",
    "file_1.close() \n",
    "\n",
    "open_file = open('file_1.txt', 'r') # Open the file_1.txt for reading\n",
    "txt_1 = open_file.read() # Bring in the text as string\n",
    "\n",
    "# Function for finding the number of words appearing in the text and sort them\n",
    "def wc_sort(ex_txt):\n",
    "    ex_txt = ex_txt.lower()\n",
    "    w_list = ex_txt.split(sep = \" \")\n",
    "\n",
    "    w_dic = dict()\n",
    "    for i in w_list:\n",
    "        w_dic[i] = w_list.count(i)\n",
    "    w_dic = sorted(w_dic.items(), key = lambda x: x[1], reverse = True)\n",
    "    return(w_dic)\n",
    "\n",
    "print(wc_sort(txt_1)) # Test the result for the example text\n",
    "\n",
    "import requests # For importing text file in the github repository\n",
    "t_url_1 = 'https://github.com/datasciencefun/comp_biz_r/raw/master/question4.txt'\n",
    "response = requests.get(t_url_1) # Read the text file\n",
    "\n",
    "my_txt = response.text # Convert the text file to string\n",
    "file_2 = open('file_2.txt', \"w\") # Open a new file_2.txt\n",
    "file_2.write(my_txt) # Write the question4.txt content into file_2.txt\n",
    "file_2.close()\n",
    "\n",
    "open_file = open('file_2.txt', 'r') # Open file_2.txt for reading\n",
    "txt_2 = open_file.read() \n",
    "open_file.close()\n",
    "print(wc_sort(txt_2)) # Report the result"
   ]
  },
  {
   "cell_type": "markdown",
   "metadata": {},
   "source": [
    "## Quesiton 3. Solution"
   ]
  },
  {
   "cell_type": "code",
   "execution_count": 43,
   "metadata": {},
   "outputs": [
    {
     "name": "stdout",
     "output_type": "stream",
     "text": [
      "Number of items in seen:  50\n",
      "Number of items in urls:  697\n",
      "Number of items in opened:  50\n",
      "Top 25 Scoring URLs: [('http://www8.gsb.columbia.edu/faculty-research/faculty/recruitment', 67), ('http://www8.gsb.columbia.edu/faculty-research/faculty/publications?year=2016', 67), ('http://www8.gsb.columbia.edu/faculty-research/faculty/publications?year=2017', 62), ('http://www8.gsb.columbia.edu/faculty-research/faculty/publications?year=2015', 61), ('http://www8.gsb.columbia.edu/faculty-research/faculty/publications?year=2018', 54), ('http://www8.gsb.columbia.edu/faculty-research/divisions/decision-risk-operations', 50), ('http://www8.gsb.columbia.edu/faculty-research/faculty/publications', 47), ('http://www8.gsb.columbia.edu/faculty-research/divisions/accounting', 47), ('http://www8.gsb.columbia.edu/faculty-research', 43), ('http://www8.gsb.columbia.edu/faculty-research/faculty', 43), ('http://www8.gsb.columbia.edu/faculty-research/divisions', 38), ('http://www8.gsb.columbia.edu/faculty-research/faculty-directory', 37), ('http://www8.gsb.columbia.edu', 28), ('http://www8.gsb.columbia.edu#mMenuSearch', 28), ('http://www8.gsb.columbia.edu/researcharchive/articles/5818', 22), ('http://www8.gsb.columbia.edu/researcharchive/articles/23365', 22), ('http://www8.gsb.columbia.edu/researcharchive/articles/25465', 21), ('http://www8.gsb.columbia.edu/researcharchive/articles/15074', 21), ('http://www8.gsb.columbia.edu/researcharchive/articles/6367', 20), ('http://www8.gsb.columbia.edu/researcharchive/articles/25758', 20), ('http://www8.gsb.columbia.edu/researcharchive/articles/4610', 20), ('http://www8.gsb.columbia.edu/researcharchive/articles/5950', 20), ('http://www8.gsb.columbia.edu/researcharchive/articles/25718', 20), ('http://www8.gsb.columbia.edu/researcharchive/articles/17186', 19), ('http://www8.gsb.columbia.edu/researcharchive/articles/5783', 19)]\n"
     ]
    }
   ],
   "source": [
    "import re # Conveniently find number of word counts in the text\n",
    "from bs4 import BeautifulSoup # For creating soup object\n",
    "import urllib.request # For opening the url and create a soup object\n",
    "import urllib.parse # For joining two urls\n",
    "\n",
    "seed_url = \"http://www8.gsb.columbia.edu\" # Seed url to visit\n",
    "\n",
    "urls = {seed_url:1} # Queue of urls to crawl\n",
    "seen = {seed_url:1} # Stack of urls seen so far\n",
    "opened = []         # Queue of urls opened so far \n",
    "keywords = ['finance', 'engineering', 'business', 'research'] # Keywords to search for\n",
    "\n",
    "maxNumUrl = 50 # Set the maximum number of urls to visit\n",
    "\n",
    "# Define a function that searches for keywords in the given text\n",
    "def kw_count(keywords, htmltext):\n",
    "    sc = 0\n",
    "    for i in keywords:\n",
    "        sc += len(re.findall(i, htmltext))\n",
    "    my_score = sc\n",
    "    return my_score\n",
    "\n",
    "while len(urls) > 0 and len(opened) < maxNumUrl:\n",
    "    \n",
    "    try:\n",
    "        curr_url = max(urls, key = urls.get) # Assigns the url with the highet score to curr_url  \n",
    "        urls.pop(curr_url) # Pops the highest scoring url (curr_url) from urls\n",
    "        \n",
    "        webpage = urllib.request.urlopen(curr_url) # Opens curr_url\n",
    "        \n",
    "        opened.append(curr_url) # Appends curr_url to opened list\n",
    "        \n",
    "        soup = BeautifulSoup(webpage, \"lxml\") # Creates a BeautifulSoup object\n",
    "        htmltext = soup.get_text().lower() # Access the text in the curr_url page and decapitalize it\n",
    "        score = kw_count(keywords, htmltext) # Call the kw_count function\n",
    "        seen[curr_url] = score # Add {curr_url:score} to our seen dictionary\n",
    "    \n",
    "    except: # Skip through the errors\n",
    "        continue\n",
    "    \n",
    "    # This is to visit the child urls of curr_url\n",
    "    if score > 0: # Only visit when the parnet url (curr_url) has a score > 0\n",
    "        for tag in soup.find_all('a', href=True): # find all the <a> objects\n",
    "            childUrl = tag[\"href\"] # Assign href objects to childUrl\n",
    "            o_childurl = childUrl # Assign it as the original childurl\n",
    "            childUrl = urllib.parse.urljoin(seed_url, childUrl) # Join the parent url and the child url\n",
    "            \n",
    "            if seed_url in childUrl and childUrl not in seen:\n",
    "                urls[childUrl] = score # Add the parnet score {childUrl:score} to urls dictionary\n",
    "\n",
    "print(\"Number of items in seen: \", len(seen)) # Report the number of items in seen dictionary\n",
    "print(\"Number of items in urls: \", len(urls)) # Report the number of items in urls dictionary\n",
    "print(\"Number of items in opened: \", len(opened)) # Report the number of items in opened list\n",
    "\n",
    "# This is to report the top 25 highest scoring urls\n",
    "score_rank = sorted(seen.items(), key = lambda i: i[1], reverse = True) # sorted() and lambda function to sort dictionary\n",
    "print(\"Top 25 Scoring URLs:\", score_rank[:25])"
   ]
  }
 ],
 "metadata": {
  "kernelspec": {
   "display_name": "Python 3",
   "language": "python",
   "name": "python3"
  },
  "language_info": {
   "codemirror_mode": {
    "name": "ipython",
    "version": 3
   },
   "file_extension": ".py",
   "mimetype": "text/x-python",
   "name": "python",
   "nbconvert_exporter": "python",
   "pygments_lexer": "ipython3",
   "version": "3.6.3"
  }
 },
 "nbformat": 4,
 "nbformat_minor": 2
}
